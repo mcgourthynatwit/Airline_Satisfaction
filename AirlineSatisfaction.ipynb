{
 "cells": [
  {
   "cell_type": "code",
   "execution_count": 1,
   "id": "8da34942-a001-4e52-a1cd-a29071a7d906",
   "metadata": {
    "scrolled": true
   },
   "outputs": [
    {
     "data": {
      "text/html": [
       "\n",
       "            <div>\n",
       "                <p><b>SparkSession - hive</b></p>\n",
       "                \n",
       "        <div>\n",
       "            <p><b>SparkContext</b></p>\n",
       "\n",
       "            <p><a href=\"http://10.220.89.203:4040\">Spark UI</a></p>\n",
       "\n",
       "            <dl>\n",
       "              <dt>Version</dt>\n",
       "                <dd><code>v3.5.0</code></dd>\n",
       "              <dt>Master</dt>\n",
       "                <dd><code>local[*]</code></dd>\n",
       "              <dt>AppName</dt>\n",
       "                <dd><code>PySparkShell</code></dd>\n",
       "            </dl>\n",
       "        </div>\n",
       "        \n",
       "            </div>\n",
       "        "
      ],
      "text/plain": [
       "<pyspark.sql.session.SparkSession at 0x107b17a90>"
      ]
     },
     "execution_count": 1,
     "metadata": {},
     "output_type": "execute_result"
    }
   ],
   "source": [
    "spark"
   ]
  },
  {
   "cell_type": "code",
   "execution_count": 2,
   "id": "5ea08e06-548c-4e10-bd92-d5a2f4a7b90d",
   "metadata": {},
   "outputs": [],
   "source": [
    "from pyspark.ml.feature import StringIndexer, IndexToString, VectorAssembler\n",
    "from pyspark.ml.classification import RandomForestClassifier, LogisticRegression, GBTClassifier\n",
    "from pyspark.ml.evaluation import MulticlassClassificationEvaluator\n",
    "from pyspark.ml import Pipeline, Model\n",
    "from pyspark.sql.functions import col, isnull, when, count, expr\n",
    "from pyspark.sql.types import Row\n",
    "import matplotlib.pyplot as plt\n",
    "import seaborn as sns\n",
    "import numpy as np"
   ]
  },
  {
   "cell_type": "code",
   "execution_count": 3,
   "id": "3795af24-3cec-45c8-bc7d-665482e4fcd4",
   "metadata": {},
   "outputs": [],
   "source": [
    "df = spark.read.format('csv').option(\"header\",\"true\").load('Invistico_Airline.csv')"
   ]
  },
  {
   "cell_type": "code",
   "execution_count": 4,
   "id": "8675adda-f9c1-4399-9ea3-b540d44715d7",
   "metadata": {},
   "outputs": [
    {
     "data": {
      "text/plain": [
       "['satisfaction',\n",
       " 'Customer Type',\n",
       " 'Age',\n",
       " 'Type of Travel',\n",
       " 'Class',\n",
       " 'Flight Distance',\n",
       " 'Seat comfort',\n",
       " 'Departure/Arrival time convenient',\n",
       " 'Food and drink',\n",
       " 'Gate location',\n",
       " 'Inflight wifi service',\n",
       " 'Inflight entertainment',\n",
       " 'Online support',\n",
       " 'Ease of Online booking',\n",
       " 'On-board service',\n",
       " 'Leg room service',\n",
       " 'Baggage handling',\n",
       " 'Checkin service',\n",
       " 'Cleanliness',\n",
       " 'Online boarding',\n",
       " 'Departure Delay in Minutes',\n",
       " 'Arrival Delay in Minutes']"
      ]
     },
     "execution_count": 4,
     "metadata": {},
     "output_type": "execute_result"
    }
   ],
   "source": [
    "df.columns"
   ]
  },
  {
   "cell_type": "code",
   "execution_count": 5,
   "id": "198d0505-e700-4656-baf6-eed35af64934",
   "metadata": {},
   "outputs": [
    {
     "name": "stdout",
     "output_type": "stream",
     "text": [
      "+------------+--------------+---+---------------+-----+---------------+------------+---------------------------------+--------------+-------------+---------------------+----------------------+--------------+----------------------+----------------+----------------+----------------+---------------+-----------+---------------+--------------------------+------------------------+\n",
      "|satisfaction| Customer Type|Age| Type of Travel|Class|Flight Distance|Seat comfort|Departure/Arrival time convenient|Food and drink|Gate location|Inflight wifi service|Inflight entertainment|Online support|Ease of Online booking|On-board service|Leg room service|Baggage handling|Checkin service|Cleanliness|Online boarding|Departure Delay in Minutes|Arrival Delay in Minutes|\n",
      "+------------+--------------+---+---------------+-----+---------------+------------+---------------------------------+--------------+-------------+---------------------+----------------------+--------------+----------------------+----------------+----------------+----------------+---------------+-----------+---------------+--------------------------+------------------------+\n",
      "|   satisfied|Loyal Customer| 65|Personal Travel|  Eco|            265|           0|                                0|             0|            2|                    2|                     4|             2|                     3|               3|               0|               3|              5|          3|              2|                         0|                     0.0|\n",
      "+------------+--------------+---+---------------+-----+---------------+------------+---------------------------------+--------------+-------------+---------------------+----------------------+--------------+----------------------+----------------+----------------+----------------+---------------+-----------+---------------+--------------------------+------------------------+\n",
      "only showing top 1 row\n",
      "\n"
     ]
    }
   ],
   "source": [
    "df.show(1)"
   ]
  },
  {
   "cell_type": "code",
   "execution_count": 6,
   "id": "36ed6e1c-a190-4582-b004-b16f9eef7693",
   "metadata": {},
   "outputs": [
    {
     "name": "stdout",
     "output_type": "stream",
     "text": [
      "root\n",
      " |-- satisfaction: string (nullable = true)\n",
      " |-- Customer Type: string (nullable = true)\n",
      " |-- Age: string (nullable = true)\n",
      " |-- Type of Travel: string (nullable = true)\n",
      " |-- Class: string (nullable = true)\n",
      " |-- Flight Distance: string (nullable = true)\n",
      " |-- Seat comfort: string (nullable = true)\n",
      " |-- Departure/Arrival time convenient: string (nullable = true)\n",
      " |-- Food and drink: string (nullable = true)\n",
      " |-- Gate location: string (nullable = true)\n",
      " |-- Inflight wifi service: string (nullable = true)\n",
      " |-- Inflight entertainment: string (nullable = true)\n",
      " |-- Online support: string (nullable = true)\n",
      " |-- Ease of Online booking: string (nullable = true)\n",
      " |-- On-board service: string (nullable = true)\n",
      " |-- Leg room service: string (nullable = true)\n",
      " |-- Baggage handling: string (nullable = true)\n",
      " |-- Checkin service: string (nullable = true)\n",
      " |-- Cleanliness: string (nullable = true)\n",
      " |-- Online boarding: string (nullable = true)\n",
      " |-- Departure Delay in Minutes: string (nullable = true)\n",
      " |-- Arrival Delay in Minutes: string (nullable = true)\n",
      "\n"
     ]
    }
   ],
   "source": [
    "# Sparks way of showing data is not really the best formatted, lets see the columns in an organized format\n",
    "df.printSchema()"
   ]
  },
  {
   "cell_type": "code",
   "execution_count": 7,
   "id": "7615b16e-3da4-4e88-9a08-dcd3003f3507",
   "metadata": {},
   "outputs": [
    {
     "name": "stderr",
     "output_type": "stream",
     "text": [
      "                                                                                \r"
     ]
    },
    {
     "data": {
      "text/html": [
       "<div>\n",
       "<style scoped>\n",
       "    .dataframe tbody tr th:only-of-type {\n",
       "        vertical-align: middle;\n",
       "    }\n",
       "\n",
       "    .dataframe tbody tr th {\n",
       "        vertical-align: top;\n",
       "    }\n",
       "\n",
       "    .dataframe thead th {\n",
       "        text-align: right;\n",
       "    }\n",
       "</style>\n",
       "<table border=\"1\" class=\"dataframe\">\n",
       "  <thead>\n",
       "    <tr style=\"text-align: right;\">\n",
       "      <th></th>\n",
       "      <th>satisfaction</th>\n",
       "      <th>Food and drink</th>\n",
       "      <th>Gate location</th>\n",
       "      <th>Inflight wifi service</th>\n",
       "      <th>Inflight entertainment</th>\n",
       "      <th>On-board service</th>\n",
       "      <th>Leg room service</th>\n",
       "      <th>Baggage handling</th>\n",
       "      <th>Cleanliness</th>\n",
       "      <th>Departure Delay in Minutes</th>\n",
       "      <th>Arrival Delay in Minutes</th>\n",
       "    </tr>\n",
       "  </thead>\n",
       "  <tbody>\n",
       "    <tr>\n",
       "      <th>0</th>\n",
       "      <td>satisfied</td>\n",
       "      <td>0</td>\n",
       "      <td>2</td>\n",
       "      <td>2</td>\n",
       "      <td>4</td>\n",
       "      <td>3</td>\n",
       "      <td>0</td>\n",
       "      <td>3</td>\n",
       "      <td>3</td>\n",
       "      <td>0</td>\n",
       "      <td>0.0</td>\n",
       "    </tr>\n",
       "    <tr>\n",
       "      <th>1</th>\n",
       "      <td>satisfied</td>\n",
       "      <td>0</td>\n",
       "      <td>3</td>\n",
       "      <td>0</td>\n",
       "      <td>2</td>\n",
       "      <td>4</td>\n",
       "      <td>4</td>\n",
       "      <td>4</td>\n",
       "      <td>3</td>\n",
       "      <td>310</td>\n",
       "      <td>305.0</td>\n",
       "    </tr>\n",
       "    <tr>\n",
       "      <th>2</th>\n",
       "      <td>satisfied</td>\n",
       "      <td>0</td>\n",
       "      <td>3</td>\n",
       "      <td>2</td>\n",
       "      <td>0</td>\n",
       "      <td>3</td>\n",
       "      <td>3</td>\n",
       "      <td>4</td>\n",
       "      <td>4</td>\n",
       "      <td>0</td>\n",
       "      <td>0.0</td>\n",
       "    </tr>\n",
       "    <tr>\n",
       "      <th>3</th>\n",
       "      <td>satisfied</td>\n",
       "      <td>0</td>\n",
       "      <td>3</td>\n",
       "      <td>3</td>\n",
       "      <td>4</td>\n",
       "      <td>1</td>\n",
       "      <td>0</td>\n",
       "      <td>1</td>\n",
       "      <td>1</td>\n",
       "      <td>0</td>\n",
       "      <td>0.0</td>\n",
       "    </tr>\n",
       "    <tr>\n",
       "      <th>4</th>\n",
       "      <td>satisfied</td>\n",
       "      <td>0</td>\n",
       "      <td>3</td>\n",
       "      <td>4</td>\n",
       "      <td>3</td>\n",
       "      <td>2</td>\n",
       "      <td>0</td>\n",
       "      <td>2</td>\n",
       "      <td>2</td>\n",
       "      <td>0</td>\n",
       "      <td>0.0</td>\n",
       "    </tr>\n",
       "  </tbody>\n",
       "</table>\n",
       "</div>"
      ],
      "text/plain": [
       "  satisfaction Food and drink Gate location Inflight wifi service  \\\n",
       "0    satisfied              0             2                     2   \n",
       "1    satisfied              0             3                     0   \n",
       "2    satisfied              0             3                     2   \n",
       "3    satisfied              0             3                     3   \n",
       "4    satisfied              0             3                     4   \n",
       "\n",
       "  Inflight entertainment On-board service Leg room service Baggage handling  \\\n",
       "0                      4                3                0                3   \n",
       "1                      2                4                4                4   \n",
       "2                      0                3                3                4   \n",
       "3                      4                1                0                1   \n",
       "4                      3                2                0                2   \n",
       "\n",
       "  Cleanliness Departure Delay in Minutes Arrival Delay in Minutes  \n",
       "0           3                          0                      0.0  \n",
       "1           3                        310                    305.0  \n",
       "2           4                          0                      0.0  \n",
       "3           1                          0                      0.0  \n",
       "4           2                          0                      0.0  "
      ]
     },
     "execution_count": 7,
     "metadata": {},
     "output_type": "execute_result"
    }
   ],
   "source": [
    "# Show select columns in an organized format using pandas\n",
    "df.select(\"satisfaction\", \"Food and drink\", \n",
    "          \"Gate location\", \"Inflight wifi service\", \n",
    "          \"Inflight entertainment\", \"On-board service\", \n",
    "          \"Leg room service\", \"Baggage handling\", \"Cleanliness\", \n",
    "          \"Departure Delay in Minutes\", \"Arrival Delay in Minutes\").toPandas().head()"
   ]
  },
  {
   "cell_type": "code",
   "execution_count": 8,
   "id": "c23c6b63-48af-4e70-aa5d-d8c29d5af0f9",
   "metadata": {},
   "outputs": [
    {
     "data": {
      "text/html": [
       "<div>\n",
       "<style scoped>\n",
       "    .dataframe tbody tr th:only-of-type {\n",
       "        vertical-align: middle;\n",
       "    }\n",
       "\n",
       "    .dataframe tbody tr th {\n",
       "        vertical-align: top;\n",
       "    }\n",
       "\n",
       "    .dataframe thead th {\n",
       "        text-align: right;\n",
       "    }\n",
       "</style>\n",
       "<table border=\"1\" class=\"dataframe\">\n",
       "  <thead>\n",
       "    <tr style=\"text-align: right;\">\n",
       "      <th></th>\n",
       "      <th>satisfaction</th>\n",
       "      <th>Customer Type</th>\n",
       "      <th>Age</th>\n",
       "      <th>Type of Travel</th>\n",
       "      <th>Class</th>\n",
       "      <th>Flight Distance</th>\n",
       "      <th>Seat comfort</th>\n",
       "      <th>Departure/Arrival time convenient</th>\n",
       "      <th>Food and drink</th>\n",
       "      <th>Gate location</th>\n",
       "      <th>...</th>\n",
       "      <th>Online support</th>\n",
       "      <th>Ease of Online booking</th>\n",
       "      <th>On-board service</th>\n",
       "      <th>Leg room service</th>\n",
       "      <th>Baggage handling</th>\n",
       "      <th>Checkin service</th>\n",
       "      <th>Cleanliness</th>\n",
       "      <th>Online boarding</th>\n",
       "      <th>Departure Delay in Minutes</th>\n",
       "      <th>Arrival Delay in Minutes</th>\n",
       "    </tr>\n",
       "  </thead>\n",
       "  <tbody>\n",
       "    <tr>\n",
       "      <th>count</th>\n",
       "      <td>129880</td>\n",
       "      <td>129880</td>\n",
       "      <td>129880</td>\n",
       "      <td>129880</td>\n",
       "      <td>129880</td>\n",
       "      <td>129880</td>\n",
       "      <td>129880</td>\n",
       "      <td>129880</td>\n",
       "      <td>129880</td>\n",
       "      <td>129880</td>\n",
       "      <td>...</td>\n",
       "      <td>129880</td>\n",
       "      <td>129880</td>\n",
       "      <td>129880</td>\n",
       "      <td>129880</td>\n",
       "      <td>129880</td>\n",
       "      <td>129880</td>\n",
       "      <td>129880</td>\n",
       "      <td>129880</td>\n",
       "      <td>129880</td>\n",
       "      <td>129487</td>\n",
       "    </tr>\n",
       "    <tr>\n",
       "      <th>unique</th>\n",
       "      <td>2</td>\n",
       "      <td>2</td>\n",
       "      <td>75</td>\n",
       "      <td>2</td>\n",
       "      <td>3</td>\n",
       "      <td>5398</td>\n",
       "      <td>6</td>\n",
       "      <td>6</td>\n",
       "      <td>6</td>\n",
       "      <td>6</td>\n",
       "      <td>...</td>\n",
       "      <td>6</td>\n",
       "      <td>6</td>\n",
       "      <td>6</td>\n",
       "      <td>6</td>\n",
       "      <td>5</td>\n",
       "      <td>6</td>\n",
       "      <td>6</td>\n",
       "      <td>6</td>\n",
       "      <td>466</td>\n",
       "      <td>472</td>\n",
       "    </tr>\n",
       "    <tr>\n",
       "      <th>top</th>\n",
       "      <td>satisfied</td>\n",
       "      <td>Loyal Customer</td>\n",
       "      <td>39</td>\n",
       "      <td>Business travel</td>\n",
       "      <td>Business</td>\n",
       "      <td>1963</td>\n",
       "      <td>3</td>\n",
       "      <td>4</td>\n",
       "      <td>3</td>\n",
       "      <td>3</td>\n",
       "      <td>...</td>\n",
       "      <td>4</td>\n",
       "      <td>4</td>\n",
       "      <td>4</td>\n",
       "      <td>4</td>\n",
       "      <td>4</td>\n",
       "      <td>4</td>\n",
       "      <td>4</td>\n",
       "      <td>4</td>\n",
       "      <td>0</td>\n",
       "      <td>0.0</td>\n",
       "    </tr>\n",
       "    <tr>\n",
       "      <th>freq</th>\n",
       "      <td>71087</td>\n",
       "      <td>106100</td>\n",
       "      <td>3692</td>\n",
       "      <td>89693</td>\n",
       "      <td>62160</td>\n",
       "      <td>92</td>\n",
       "      <td>29183</td>\n",
       "      <td>29593</td>\n",
       "      <td>28150</td>\n",
       "      <td>33546</td>\n",
       "      <td>...</td>\n",
       "      <td>41510</td>\n",
       "      <td>39920</td>\n",
       "      <td>40675</td>\n",
       "      <td>39698</td>\n",
       "      <td>48240</td>\n",
       "      <td>36481</td>\n",
       "      <td>48795</td>\n",
       "      <td>35181</td>\n",
       "      <td>73356</td>\n",
       "      <td>72753</td>\n",
       "    </tr>\n",
       "  </tbody>\n",
       "</table>\n",
       "<p>4 rows × 22 columns</p>\n",
       "</div>"
      ],
      "text/plain": [
       "       satisfaction   Customer Type     Age   Type of Travel     Class  \\\n",
       "count        129880          129880  129880           129880    129880   \n",
       "unique            2               2      75                2         3   \n",
       "top       satisfied  Loyal Customer      39  Business travel  Business   \n",
       "freq          71087          106100    3692            89693     62160   \n",
       "\n",
       "       Flight Distance Seat comfort Departure/Arrival time convenient  \\\n",
       "count           129880       129880                            129880   \n",
       "unique            5398            6                                 6   \n",
       "top               1963            3                                 4   \n",
       "freq                92        29183                             29593   \n",
       "\n",
       "       Food and drink Gate location  ... Online support  \\\n",
       "count          129880        129880  ...         129880   \n",
       "unique              6             6  ...              6   \n",
       "top                 3             3  ...              4   \n",
       "freq            28150         33546  ...          41510   \n",
       "\n",
       "       Ease of Online booking On-board service Leg room service  \\\n",
       "count                  129880           129880           129880   \n",
       "unique                      6                6                6   \n",
       "top                         4                4                4   \n",
       "freq                    39920            40675            39698   \n",
       "\n",
       "       Baggage handling Checkin service Cleanliness Online boarding  \\\n",
       "count            129880          129880      129880          129880   \n",
       "unique                5               6           6               6   \n",
       "top                   4               4           4               4   \n",
       "freq              48240           36481       48795           35181   \n",
       "\n",
       "       Departure Delay in Minutes Arrival Delay in Minutes  \n",
       "count                      129880                   129487  \n",
       "unique                        466                      472  \n",
       "top                             0                      0.0  \n",
       "freq                        73356                    72753  \n",
       "\n",
       "[4 rows x 22 columns]"
      ]
     },
     "execution_count": 8,
     "metadata": {},
     "output_type": "execute_result"
    }
   ],
   "source": [
    "# Get some useful metrics\n",
    "df.toPandas().describe()"
   ]
  },
  {
   "cell_type": "code",
   "execution_count": 9,
   "id": "49844cc3-c791-457e-a053-16882c9c8157",
   "metadata": {
    "editable": true,
    "slideshow": {
     "slide_type": ""
    },
    "tags": []
   },
   "outputs": [
    {
     "data": {
      "text/plain": [
       "129880"
      ]
     },
     "execution_count": 9,
     "metadata": {},
     "output_type": "execute_result"
    }
   ],
   "source": [
    "# Get count of df entries(num rows)\n",
    "df.count()"
   ]
  },
  {
   "cell_type": "code",
   "execution_count": 10,
   "id": "8ed12e0b-050e-4076-870d-fcf1bb0be2f3",
   "metadata": {},
   "outputs": [],
   "source": [
    "# convert column types from strings to ints\n",
    "columns_to_convert = ['Seat comfort', 'Departure/Arrival time convenient', 'Age',\n",
    "                      'Food and drink', 'Gate location', 'Inflight wifi service', \n",
    "                      'Inflight entertainment', 'Online support', 'Ease of Online booking',\n",
    "                      'On-board service', 'Leg room service', 'Baggage handling', \n",
    "                      'Checkin service', 'Cleanliness', 'Online boarding']\n",
    "\n",
    "for column in columns_to_convert:\n",
    "    df = df.withColumn(column, col(column).cast('int'))\n",
    "\n",
    "# convert column types from strings to doubles (prices and distance)\n",
    "columns_to_convert = ['Departure Delay in Minutes', 'Arrival Delay in Minutes', 'Flight Distance']\n",
    "\n",
    "for column in columns_to_convert:\n",
    "    df = df.withColumn(column, col(column).cast('float'))"
   ]
  },
  {
   "cell_type": "code",
   "execution_count": 11,
   "id": "0f8848af-a983-4655-8b75-43df5161a830",
   "metadata": {},
   "outputs": [
    {
     "name": "stdout",
     "output_type": "stream",
     "text": [
      "root\n",
      " |-- satisfaction: string (nullable = true)\n",
      " |-- Customer Type: string (nullable = true)\n",
      " |-- Age: integer (nullable = true)\n",
      " |-- Type of Travel: string (nullable = true)\n",
      " |-- Class: string (nullable = true)\n",
      " |-- Flight Distance: float (nullable = true)\n",
      " |-- Seat comfort: integer (nullable = true)\n",
      " |-- Departure/Arrival time convenient: integer (nullable = true)\n",
      " |-- Food and drink: integer (nullable = true)\n",
      " |-- Gate location: integer (nullable = true)\n",
      " |-- Inflight wifi service: integer (nullable = true)\n",
      " |-- Inflight entertainment: integer (nullable = true)\n",
      " |-- Online support: integer (nullable = true)\n",
      " |-- Ease of Online booking: integer (nullable = true)\n",
      " |-- On-board service: integer (nullable = true)\n",
      " |-- Leg room service: integer (nullable = true)\n",
      " |-- Baggage handling: integer (nullable = true)\n",
      " |-- Checkin service: integer (nullable = true)\n",
      " |-- Cleanliness: integer (nullable = true)\n",
      " |-- Online boarding: integer (nullable = true)\n",
      " |-- Departure Delay in Minutes: float (nullable = true)\n",
      " |-- Arrival Delay in Minutes: float (nullable = true)\n",
      "\n"
     ]
    }
   ],
   "source": [
    "# Verify changes\n",
    "df.printSchema()"
   ]
  },
  {
   "cell_type": "code",
   "execution_count": 12,
   "id": "3f6bff1b-c95e-4174-9237-7148153ca5de",
   "metadata": {},
   "outputs": [
    {
     "name": "stderr",
     "output_type": "stream",
     "text": [
      "                                                                                \r"
     ]
    }
   ],
   "source": [
    "# setup encoder for columns\n",
    "stringIndexer_label = StringIndexer(inputCol = 'satisfaction', outputCol = 'label').fit(df)\n",
    "stringIndexer_class = StringIndexer(inputCol = 'Class', outputCol = 'class_encoded')\n",
    "stringIndexer_travelType = StringIndexer(inputCol = 'Type of Travel', outputCol = 'travel_encoded')\n",
    "stringIndexer_customerType = StringIndexer(inputCol = 'Customer Type', outputCol = 'customer_encoded')"
   ]
  },
  {
   "cell_type": "code",
   "execution_count": 13,
   "id": "529636a4-70fb-4bce-bedb-12efa5662b66",
   "metadata": {},
   "outputs": [
    {
     "name": "stderr",
     "output_type": "stream",
     "text": [
      "                                                                                \r"
     ]
    },
    {
     "name": "stdout",
     "output_type": "stream",
     "text": [
      "393\n",
      "     satisfaction   Customer Type  Age   Type of Travel Class  \\\n",
      "145     satisfied  Loyal Customer   21  Personal Travel   Eco   \n",
      "246     satisfied  Loyal Customer   28  Personal Travel   Eco   \n",
      "710     satisfied  Loyal Customer   28  Personal Travel   Eco   \n",
      "736     satisfied  Loyal Customer    9  Personal Travel   Eco   \n",
      "818  dissatisfied  Loyal Customer    9  Personal Travel   Eco   \n",
      "\n",
      "     Flight Distance  Seat comfort  Departure/Arrival time convenient  \\\n",
      "145           4804.0             0                                  2   \n",
      "246           1364.0             0                                  3   \n",
      "710           1792.0             0                                  5   \n",
      "736           1862.0             0                                  5   \n",
      "818           1668.0             1                                  0   \n",
      "\n",
      "     Food and drink  Gate location  ...  Online support  \\\n",
      "145               0              4  ...               5   \n",
      "246               0              4  ...               4   \n",
      "710               0              3  ...               5   \n",
      "736               0              4  ...               3   \n",
      "818               1              1  ...               4   \n",
      "\n",
      "     Ease of Online booking  On-board service  Leg room service  \\\n",
      "145                       5                 4                 1   \n",
      "246                       2                 1                 1   \n",
      "710                       5                 4                 4   \n",
      "736                       3                 5                 3   \n",
      "818                       4                 4                 5   \n",
      "\n",
      "     Baggage handling  Checkin service  Cleanliness  Online boarding  \\\n",
      "145                 4                2            3                5   \n",
      "246                 3                4            3                2   \n",
      "710                 5                3            4                5   \n",
      "736                 4                4            4                3   \n",
      "818                 1                5            1                4   \n",
      "\n",
      "     Departure Delay in Minutes  Arrival Delay in Minutes  \n",
      "145                        20.0                       NaN  \n",
      "246                         0.0                       NaN  \n",
      "710                        24.0                       NaN  \n",
      "736                         0.0                       NaN  \n",
      "818                         0.0                       NaN  \n",
      "\n",
      "[5 rows x 22 columns]\n"
     ]
    }
   ],
   "source": [
    "# Get the null rows count and print out \n",
    "pandas_df = df.toPandas()\n",
    "null_rows_count = pandas_df.isnull().any(axis=1).sum()\n",
    "print(null_rows_count)\n",
    "print(pandas_df[pandas_df.isnull().any(axis=1)].head())"
   ]
  },
  {
   "cell_type": "code",
   "execution_count": 14,
   "id": "04ff53cd-5b58-428e-8117-94810678362b",
   "metadata": {},
   "outputs": [],
   "source": [
    "# The NAN come from Arrival Delay in Minutes, if NAN we are assuming there is no delay so set rows with NAN to 0 for delay\n",
    "df = df.withColumn(\n",
    "    'Arrival Delay in Minutes',\n",
    "    when(df['Arrival Delay in Minutes'].isNull(),0.0).otherwise(df['Arrival Delay in Minutes']))"
   ]
  },
  {
   "cell_type": "code",
   "execution_count": 15,
   "id": "1e5f3f79-90ab-499f-9ad0-b127ae3e3d13",
   "metadata": {},
   "outputs": [
    {
     "name": "stderr",
     "output_type": "stream",
     "text": [
      "                                                                                \r"
     ]
    },
    {
     "data": {
      "text/html": [
       "<div>\n",
       "<style scoped>\n",
       "    .dataframe tbody tr th:only-of-type {\n",
       "        vertical-align: middle;\n",
       "    }\n",
       "\n",
       "    .dataframe tbody tr th {\n",
       "        vertical-align: top;\n",
       "    }\n",
       "\n",
       "    .dataframe thead th {\n",
       "        text-align: right;\n",
       "    }\n",
       "</style>\n",
       "<table border=\"1\" class=\"dataframe\">\n",
       "  <thead>\n",
       "    <tr style=\"text-align: right;\">\n",
       "      <th></th>\n",
       "      <th>satisfaction</th>\n",
       "      <th>Customer Type</th>\n",
       "      <th>Age</th>\n",
       "      <th>Type of Travel</th>\n",
       "      <th>Class</th>\n",
       "      <th>Flight Distance</th>\n",
       "      <th>Seat comfort</th>\n",
       "      <th>Departure/Arrival time convenient</th>\n",
       "      <th>Food and drink</th>\n",
       "      <th>Gate location</th>\n",
       "      <th>...</th>\n",
       "      <th>Ease of Online booking</th>\n",
       "      <th>On-board service</th>\n",
       "      <th>Leg room service</th>\n",
       "      <th>Baggage handling</th>\n",
       "      <th>Checkin service</th>\n",
       "      <th>Cleanliness</th>\n",
       "      <th>Online boarding</th>\n",
       "      <th>Departure Delay in Minutes</th>\n",
       "      <th>Arrival Delay in Minutes</th>\n",
       "      <th>total_delay_in_minutes</th>\n",
       "    </tr>\n",
       "  </thead>\n",
       "  <tbody>\n",
       "    <tr>\n",
       "      <th>0</th>\n",
       "      <td>satisfied</td>\n",
       "      <td>Loyal Customer</td>\n",
       "      <td>65</td>\n",
       "      <td>Personal Travel</td>\n",
       "      <td>Eco</td>\n",
       "      <td>265.0</td>\n",
       "      <td>0</td>\n",
       "      <td>0</td>\n",
       "      <td>0</td>\n",
       "      <td>2</td>\n",
       "      <td>...</td>\n",
       "      <td>3</td>\n",
       "      <td>3</td>\n",
       "      <td>0</td>\n",
       "      <td>3</td>\n",
       "      <td>5</td>\n",
       "      <td>3</td>\n",
       "      <td>2</td>\n",
       "      <td>0.0</td>\n",
       "      <td>0.0</td>\n",
       "      <td>0.0</td>\n",
       "    </tr>\n",
       "    <tr>\n",
       "      <th>1</th>\n",
       "      <td>satisfied</td>\n",
       "      <td>Loyal Customer</td>\n",
       "      <td>47</td>\n",
       "      <td>Personal Travel</td>\n",
       "      <td>Business</td>\n",
       "      <td>2464.0</td>\n",
       "      <td>0</td>\n",
       "      <td>0</td>\n",
       "      <td>0</td>\n",
       "      <td>3</td>\n",
       "      <td>...</td>\n",
       "      <td>3</td>\n",
       "      <td>4</td>\n",
       "      <td>4</td>\n",
       "      <td>4</td>\n",
       "      <td>2</td>\n",
       "      <td>3</td>\n",
       "      <td>2</td>\n",
       "      <td>310.0</td>\n",
       "      <td>305.0</td>\n",
       "      <td>615.0</td>\n",
       "    </tr>\n",
       "    <tr>\n",
       "      <th>2</th>\n",
       "      <td>satisfied</td>\n",
       "      <td>Loyal Customer</td>\n",
       "      <td>15</td>\n",
       "      <td>Personal Travel</td>\n",
       "      <td>Eco</td>\n",
       "      <td>2138.0</td>\n",
       "      <td>0</td>\n",
       "      <td>0</td>\n",
       "      <td>0</td>\n",
       "      <td>3</td>\n",
       "      <td>...</td>\n",
       "      <td>2</td>\n",
       "      <td>3</td>\n",
       "      <td>3</td>\n",
       "      <td>4</td>\n",
       "      <td>4</td>\n",
       "      <td>4</td>\n",
       "      <td>2</td>\n",
       "      <td>0.0</td>\n",
       "      <td>0.0</td>\n",
       "      <td>0.0</td>\n",
       "    </tr>\n",
       "    <tr>\n",
       "      <th>3</th>\n",
       "      <td>satisfied</td>\n",
       "      <td>Loyal Customer</td>\n",
       "      <td>60</td>\n",
       "      <td>Personal Travel</td>\n",
       "      <td>Eco</td>\n",
       "      <td>623.0</td>\n",
       "      <td>0</td>\n",
       "      <td>0</td>\n",
       "      <td>0</td>\n",
       "      <td>3</td>\n",
       "      <td>...</td>\n",
       "      <td>1</td>\n",
       "      <td>1</td>\n",
       "      <td>0</td>\n",
       "      <td>1</td>\n",
       "      <td>4</td>\n",
       "      <td>1</td>\n",
       "      <td>3</td>\n",
       "      <td>0.0</td>\n",
       "      <td>0.0</td>\n",
       "      <td>0.0</td>\n",
       "    </tr>\n",
       "    <tr>\n",
       "      <th>4</th>\n",
       "      <td>satisfied</td>\n",
       "      <td>Loyal Customer</td>\n",
       "      <td>70</td>\n",
       "      <td>Personal Travel</td>\n",
       "      <td>Eco</td>\n",
       "      <td>354.0</td>\n",
       "      <td>0</td>\n",
       "      <td>0</td>\n",
       "      <td>0</td>\n",
       "      <td>3</td>\n",
       "      <td>...</td>\n",
       "      <td>2</td>\n",
       "      <td>2</td>\n",
       "      <td>0</td>\n",
       "      <td>2</td>\n",
       "      <td>4</td>\n",
       "      <td>2</td>\n",
       "      <td>5</td>\n",
       "      <td>0.0</td>\n",
       "      <td>0.0</td>\n",
       "      <td>0.0</td>\n",
       "    </tr>\n",
       "  </tbody>\n",
       "</table>\n",
       "<p>5 rows × 23 columns</p>\n",
       "</div>"
      ],
      "text/plain": [
       "  satisfaction   Customer Type  Age   Type of Travel     Class  \\\n",
       "0    satisfied  Loyal Customer   65  Personal Travel       Eco   \n",
       "1    satisfied  Loyal Customer   47  Personal Travel  Business   \n",
       "2    satisfied  Loyal Customer   15  Personal Travel       Eco   \n",
       "3    satisfied  Loyal Customer   60  Personal Travel       Eco   \n",
       "4    satisfied  Loyal Customer   70  Personal Travel       Eco   \n",
       "\n",
       "   Flight Distance  Seat comfort  Departure/Arrival time convenient  \\\n",
       "0            265.0             0                                  0   \n",
       "1           2464.0             0                                  0   \n",
       "2           2138.0             0                                  0   \n",
       "3            623.0             0                                  0   \n",
       "4            354.0             0                                  0   \n",
       "\n",
       "   Food and drink  Gate location  ...  Ease of Online booking  \\\n",
       "0               0              2  ...                       3   \n",
       "1               0              3  ...                       3   \n",
       "2               0              3  ...                       2   \n",
       "3               0              3  ...                       1   \n",
       "4               0              3  ...                       2   \n",
       "\n",
       "   On-board service  Leg room service  Baggage handling  Checkin service  \\\n",
       "0                 3                 0                 3                5   \n",
       "1                 4                 4                 4                2   \n",
       "2                 3                 3                 4                4   \n",
       "3                 1                 0                 1                4   \n",
       "4                 2                 0                 2                4   \n",
       "\n",
       "   Cleanliness  Online boarding  Departure Delay in Minutes  \\\n",
       "0            3                2                         0.0   \n",
       "1            3                2                       310.0   \n",
       "2            4                2                         0.0   \n",
       "3            1                3                         0.0   \n",
       "4            2                5                         0.0   \n",
       "\n",
       "   Arrival Delay in Minutes  total_delay_in_minutes  \n",
       "0                       0.0                     0.0  \n",
       "1                     305.0                   615.0  \n",
       "2                       0.0                     0.0  \n",
       "3                       0.0                     0.0  \n",
       "4                       0.0                     0.0  \n",
       "\n",
       "[5 rows x 23 columns]"
      ]
     },
     "execution_count": 15,
     "metadata": {},
     "output_type": "execute_result"
    }
   ],
   "source": [
    "# To reduce num of columns going into model, making a single column for total delay\n",
    "df = df.withColumn(\"total_delay_in_minutes\", col(\"Departure Delay in Minutes\") + col(\"Arrival Delay in Minutes\"))\n",
    "df.toPandas().head()"
   ]
  },
  {
   "cell_type": "code",
   "execution_count": 16,
   "id": "52c00108-9483-4f20-a0f4-0c4b0acb4739",
   "metadata": {},
   "outputs": [],
   "source": [
    "# Select model columns for model\n",
    "\n",
    "feature_cols = ['Seat comfort', 'Departure/Arrival time convenient', 'Age',\n",
    "                      'Food and drink', 'Gate location', 'Inflight wifi service', \n",
    "                      'Inflight entertainment', 'Online support', 'Ease of Online booking',\n",
    "                      'On-board service', 'Leg room service', 'Baggage handling', \n",
    "                      'Checkin service', 'Cleanliness', 'Online boarding', 'Flight Distance', \n",
    "                      'class_encoded', 'travel_encoded', 'customer_encoded', 'total_delay_in_minutes']"
   ]
  },
  {
   "cell_type": "code",
   "execution_count": 17,
   "id": "34af3918-4fbd-4c23-8c4c-162e258b233b",
   "metadata": {},
   "outputs": [],
   "source": [
    "# Vectorize features to a single column and initiate pipeline to encode columns\n",
    "\n",
    "vectorAssembler_features = VectorAssembler(inputCols = feature_cols, outputCol = \"features\")\n",
    "labelConverter = IndexToString(inputCol=\"prediction\", outputCol=\"predictedLabel\",labels=stringIndexer_label.labels)\n",
    "\n",
    "transformed_df_pipeline = Pipeline(stages = [stringIndexer_label, stringIndexer_class, stringIndexer_customerType, \n",
    "                                             stringIndexer_travelType, vectorAssembler_features])\n",
    "\n",
    "transformed_df = transformed_df_pipeline.fit(df).transform(df)"
   ]
  },
  {
   "cell_type": "code",
   "execution_count": 18,
   "id": "9d7584f6-920c-47c3-8323-a5c73c052dbe",
   "metadata": {},
   "outputs": [],
   "source": [
    "# Select mL algorithms\n",
    "rf = RandomForestClassifier(labelCol=\"label\", featuresCol=\"features\")\n",
    "lr = LogisticRegression()\n",
    "gbt = GBTClassifier(labelCol=\"label\", featuresCol=\"features\")"
   ]
  },
  {
   "cell_type": "code",
   "execution_count": 19,
   "id": "41889f59-49a9-493f-9a27-a1b6c1560105",
   "metadata": {},
   "outputs": [
    {
     "name": "stderr",
     "output_type": "stream",
     "text": [
      "                                                                                \r"
     ]
    },
    {
     "name": "stdout",
     "output_type": "stream",
     "text": [
      "Number of training records: 110346\n",
      "Number of testing records : 19534\n"
     ]
    }
   ],
   "source": [
    "# 85/15 split of train-test data\n",
    "\n",
    "split_data = df.randomSplit([0.85, 0.15], 24)\n",
    "train_data = split_data[0]\n",
    "test_data = split_data[1]\n",
    "print(\"Number of training records: \" + str(train_data.count()))\n",
    "print(\"Number of testing records : \" + str(test_data.count()))"
   ]
  },
  {
   "cell_type": "code",
   "execution_count": 20,
   "id": "84ae8d28-c01f-4a68-aeec-aa1a1a803dbe",
   "metadata": {},
   "outputs": [],
   "source": [
    "pipeline1 = Pipeline(stages = [stringIndexer_label, stringIndexer_class, stringIndexer_customerType,\n",
    "                               stringIndexer_travelType, vectorAssembler_features, rf, labelConverter])\n",
    "m1Name = \"Random Forest\" \n",
    "\n",
    "pipeline2 = Pipeline(stages = [stringIndexer_label, stringIndexer_class, stringIndexer_customerType,\n",
    "                               stringIndexer_travelType, vectorAssembler_features, lr, labelConverter])\n",
    "m2Name = \"Logistic Regression\" \n",
    "\n",
    "pipeline3 = Pipeline(stages = [stringIndexer_label, stringIndexer_class, stringIndexer_customerType,\n",
    "                               stringIndexer_travelType, vectorAssembler_features, gbt, labelConverter])\n",
    "m3Name = \"Gradient-boosted tree\"\n"
   ]
  },
  {
   "cell_type": "code",
   "execution_count": 21,
   "id": "7082a130-d4cf-4bcd-8c9b-ed7b49ec6658",
   "metadata": {},
   "outputs": [
    {
     "name": "stderr",
     "output_type": "stream",
     "text": [
      "23/12/04 17:41:01 WARN InstanceBuilder: Failed to load implementation from:dev.ludovic.netlib.blas.JNIBLAS\n",
      "                                                                                \r"
     ]
    }
   ],
   "source": [
    "model1 = pipeline1.fit(train_data)\n",
    "model2 = pipeline2.fit(train_data)\n",
    "model3 = pipeline3.fit(train_data)"
   ]
  },
  {
   "cell_type": "code",
   "execution_count": 22,
   "id": "0c577618-4eaa-4c5a-9448-43049a8e1e05",
   "metadata": {},
   "outputs": [],
   "source": [
    "# Get truth table values function given a threshold \n",
    "\n",
    "def getCMEntries(threshold):\n",
    "    newThresholdDF = spark.sql(\"select label, p1, prediction as oldPrediction,\"\n",
    "    \" case when p1 > \" + str(threshold) + \" then 1.0 else 0.0 end as newPrediction\"\n",
    "    \" from inputToThreshold\")\n",
    "    \n",
    "    newThresholdDF.registerTempTable(\"newThreshold\")\n",
    "    # number of true positives\n",
    "    tpA = spark.sql(\"SELECT * FROM newThreshold WHERE label = 1 AND newprediction = 1\")\n",
    "    # number of false positives\n",
    "    fpA = spark.sql(\"SELECT * FROM newThreshold WHERE label = 0 AND newprediction = 1\")\n",
    "    # number of false negatives\n",
    "    fnA = spark.sql(\"SELECT * FROM newThreshold WHERE label = 1 AND newprediction = 0\")\n",
    "    # number of true negatives\n",
    "    tnA = spark.sql(\"SELECT * FROM newThreshold WHERE label = 0 AND newprediction = 0\")\n",
    "    return (tpA.count(), fpA.count(), fnA.count(), tnA.count())\n"
   ]
  },
  {
   "cell_type": "code",
   "execution_count": 23,
   "id": "602c130e-8ddd-4f8a-9f96-cc682b5d685d",
   "metadata": {},
   "outputs": [],
   "source": [
    "numThresholds = 20\n",
    "\n",
    "start = 0.50\n",
    "end = 0.60\n",
    "step = 0.005\n",
    "\n",
    "thresholds = np.arange(start, end + step, step)"
   ]
  },
  {
   "cell_type": "code",
   "execution_count": 24,
   "id": "1ca3fecb-e9ee-4627-94f6-201a436b2ae1",
   "metadata": {},
   "outputs": [],
   "source": [
    "def getModelThresholdStats(model_df, data):\n",
    "    # init confusion matrix\n",
    "    tp = np.array([i for i in range(0, numThresholds + 1 )])\n",
    "    fp = np.array([i for i in range(0, numThresholds + 1 )])\n",
    "    fn = np.array([i for i in range(0, numThresholds + 1 )])\n",
    "    tn = np.array([i for i in range(0, numThresholds + 1 )])\n",
    "    \n",
    "    #generate dataframe to be used in thresholding for reciever operating cahracteristics (TP & FP):\n",
    "    predictionsForROC = model_df.transform(data)\n",
    "    \n",
    "    # Transform ROC df to sql table to query\n",
    "    predictionsForROC.registerTempTable(\"predictions\")\n",
    "\n",
    "    # Create table for confusion matrix \n",
    "    columnsForCM = spark.sql(\"select probability, prediction, label from predictions\")\n",
    "\n",
    "    extractedProbability = columnsForCM.rdd.map(lambda x: Row(p1 = float(x[0][1]), prediction=x[1], label=x[2])).toDF() \n",
    "    \n",
    "    extractedProbability.registerTempTable(\"inputToThreshold\")   \n",
    "    \n",
    "    # get the total number of positives and negatives in the predictions dataset\n",
    "    p = spark.sql(\"SELECT * from predictions WHERE label = 1\").count()\n",
    "    n = spark.sql(\"SELECT * from predictions WHERE label = 0\").count()\n",
    "    # We know the number of true positives, etc. at the threshold edges:\n",
    "    (tp[0],fp[0],fn[0],tn[0]) = (p, n, 0, 0)\n",
    "    (tp[-1],fp[-1],fn[-1],tn[-1]) = (0, 0, p, n)\n",
    "\n",
    "    # Create a tracking of the best threshold and its individual stats to print out formal confusion matrix\n",
    "    maxAcc, maxThreshold, tpBest, fpBest, fnBest, tnBest = 0, 0, 0, 0, 0, 0\n",
    "    \n",
    "    for (i, threshold) in zip(range(0, numThresholds + 1),thresholds):\n",
    "        print(i, threshold)\n",
    "        if (i>0 and i<numThresholds):\n",
    "            (tp[i],fp[i],fn[i],tn[i]) = getCMEntries(threshold)\n",
    "            print(tp[i],fp[i],fn[i],tn[i])\n",
    "            # Get accuracy for particular threshold\n",
    "            acc = (tp[i] + tn[i])/(tp[i] + fp[i] + fn[i] + tn[i])\n",
    "            print('Accuracy for threshold', threshold, acc)\n",
    "            if (acc > maxAcc):\n",
    "                maxAcc = acc\n",
    "                maxThreshold = threshold\n",
    "                tpBest, fpBest, fnBest, tnBest = tp[i], fp[i], fn[i], tn[i]\n",
    "                \n",
    "    tp = tp*1.0; fp=fp*1.0; p=p*1.0; n=n*1.0\n",
    "    tpr = tp/(tp + fn)\n",
    "    fpr = fp/(fp + tn)\n",
    "    accThreshold = (tp + tn) / (p + n)\n",
    "    \n",
    "    print('Max accuracy is ', maxAcc, ' for threshold ', maxThreshold)\n",
    "   \n",
    "    return (maxAcc, accThreshold, maxThreshold, tpBest, fpBest, fnBest, tnBest)"
   ]
  },
  {
   "cell_type": "code",
   "execution_count": 25,
   "id": "60a40044-3ae4-48fb-ab3e-d06431b449ef",
   "metadata": {
    "scrolled": true
   },
   "outputs": [
    {
     "name": "stdout",
     "output_type": "stream",
     "text": [
      "getting stats for Random Forest: train\n"
     ]
    },
    {
     "name": "stderr",
     "output_type": "stream",
     "text": [
      "/Users/nicholasmcgourthy/anaconda3/lib/python3.11/site-packages/pyspark/sql/dataframe.py:329: FutureWarning: Deprecated in 2.0, use createOrReplaceTempView instead.\n",
      "  warnings.warn(\"Deprecated in 2.0, use createOrReplaceTempView instead.\", FutureWarning)\n",
      "23/12/04 17:45:54 WARN SparkStringUtils: Truncated the string representation of a plan since it was too large. This behavior can be adjusted by setting 'spark.sql.debug.maxToStringFields'.\n",
      "                                                                                \r"
     ]
    },
    {
     "name": "stdout",
     "output_type": "stream",
     "text": [
      "0 0.5\n",
      "1 0.505\n"
     ]
    },
    {
     "name": "stderr",
     "output_type": "stream",
     "text": [
      "                                                                                \r"
     ]
    },
    {
     "name": "stdout",
     "output_type": "stream",
     "text": [
      "42558 4769 7449 55570\n",
      "Accuracy for threshold 0.505 0.8892755514472659\n",
      "2 0.51\n"
     ]
    },
    {
     "name": "stderr",
     "output_type": "stream",
     "text": [
      "                                                                                \r"
     ]
    },
    {
     "name": "stdout",
     "output_type": "stream",
     "text": [
      "42477 4685 7530 55654\n",
      "Accuracy for threshold 0.51 0.8893027386584017\n",
      "3 0.515\n"
     ]
    },
    {
     "name": "stderr",
     "output_type": "stream",
     "text": [
      "                                                                                \r"
     ]
    },
    {
     "name": "stdout",
     "output_type": "stream",
     "text": [
      "42345 4454 7662 55885\n",
      "Accuracy for threshold 0.515 0.8901999166258858\n",
      "4 0.52\n"
     ]
    },
    {
     "name": "stderr",
     "output_type": "stream",
     "text": [
      "                                                                                \r"
     ]
    },
    {
     "name": "stdout",
     "output_type": "stream",
     "text": [
      "42235 4350 7772 55989\n",
      "Accuracy for threshold 0.52 0.8901455422036141\n",
      "5 0.525\n"
     ]
    },
    {
     "name": "stderr",
     "output_type": "stream",
     "text": [
      "                                                                                \r"
     ]
    },
    {
     "name": "stdout",
     "output_type": "stream",
     "text": [
      "42131 4252 7876 56087\n",
      "Accuracy for threshold 0.525 0.8900911677813423\n",
      "6 0.53\n"
     ]
    },
    {
     "name": "stderr",
     "output_type": "stream",
     "text": [
      "                                                                                \r"
     ]
    },
    {
     "name": "stdout",
     "output_type": "stream",
     "text": [
      "42020 4103 7987 56236\n",
      "Accuracy for threshold 0.53 0.8904355391223968\n",
      "7 0.535\n"
     ]
    },
    {
     "name": "stderr",
     "output_type": "stream",
     "text": [
      "                                                                                \r"
     ]
    },
    {
     "name": "stdout",
     "output_type": "stream",
     "text": [
      "41846 3859 8161 56480\n",
      "Accuracy for threshold 0.535 0.891069907382234\n",
      "8 0.54\n"
     ]
    },
    {
     "name": "stderr",
     "output_type": "stream",
     "text": [
      "                                                                                \r"
     ]
    },
    {
     "name": "stdout",
     "output_type": "stream",
     "text": [
      "41756 3770 8251 56569\n",
      "Accuracy for threshold 0.54 0.8910608449785221\n",
      "9 0.545\n"
     ]
    },
    {
     "name": "stderr",
     "output_type": "stream",
     "text": [
      "                                                                                \r"
     ]
    },
    {
     "name": "stdout",
     "output_type": "stream",
     "text": [
      "41650 3650 8357 56689\n",
      "Accuracy for threshold 0.545 0.8911877186304895\n",
      "10 0.55\n"
     ]
    },
    {
     "name": "stderr",
     "output_type": "stream",
     "text": [
      "                                                                                \r"
     ]
    },
    {
     "name": "stdout",
     "output_type": "stream",
     "text": [
      "41530 3569 8477 56770\n",
      "Accuracy for threshold 0.55 0.8908342848857231\n",
      "11 0.555\n"
     ]
    },
    {
     "name": "stderr",
     "output_type": "stream",
     "text": [
      "                                                                                \r"
     ]
    },
    {
     "name": "stdout",
     "output_type": "stream",
     "text": [
      "41379 3507 8628 56832\n",
      "Accuracy for threshold 0.555 0.8900277309553586\n",
      "12 0.56\n"
     ]
    },
    {
     "name": "stderr",
     "output_type": "stream",
     "text": [
      "                                                                                \r"
     ]
    },
    {
     "name": "stdout",
     "output_type": "stream",
     "text": [
      "41268 3446 8739 56893\n",
      "Accuracy for threshold 0.56 0.8895746107697605\n",
      "13 0.5650000000000001\n"
     ]
    },
    {
     "name": "stderr",
     "output_type": "stream",
     "text": [
      "                                                                                \r"
     ]
    },
    {
     "name": "stdout",
     "output_type": "stream",
     "text": [
      "41170 3378 8837 56961\n",
      "Accuracy for threshold 0.5650000000000001 0.8893027386584017\n",
      "14 0.5700000000000001\n"
     ]
    },
    {
     "name": "stderr",
     "output_type": "stream",
     "text": [
      "                                                                                \r"
     ]
    },
    {
     "name": "stdout",
     "output_type": "stream",
     "text": [
      "41042 3304 8965 57035\n",
      "Accuracy for threshold 0.5700000000000001 0.8888133688579559\n",
      "15 0.5750000000000001\n"
     ]
    },
    {
     "name": "stderr",
     "output_type": "stream",
     "text": [
      "                                                                                \r"
     ]
    },
    {
     "name": "stdout",
     "output_type": "stream",
     "text": [
      "40954 3235 9053 57104\n",
      "Accuracy for threshold 0.5750000000000001 0.8886411831874287\n",
      "16 0.5800000000000001\n"
     ]
    },
    {
     "name": "stderr",
     "output_type": "stream",
     "text": [
      "                                                                                \r"
     ]
    },
    {
     "name": "stdout",
     "output_type": "stream",
     "text": [
      "40811 3167 9196 57172\n",
      "Accuracy for threshold 0.5800000000000001 0.8879615029090316\n",
      "17 0.5850000000000001\n"
     ]
    },
    {
     "name": "stderr",
     "output_type": "stream",
     "text": [
      "                                                                                \r"
     ]
    },
    {
     "name": "stdout",
     "output_type": "stream",
     "text": [
      "40615 3098 9392 57241\n",
      "Accuracy for threshold 0.5850000000000001 0.8868105776376126\n",
      "18 0.5900000000000001\n"
     ]
    },
    {
     "name": "stderr",
     "output_type": "stream",
     "text": [
      "                                                                                \r"
     ]
    },
    {
     "name": "stdout",
     "output_type": "stream",
     "text": [
      "40452 3032 9555 57307\n",
      "Accuracy for threshold 0.5900000000000001 0.8859315244775524\n",
      "19 0.5950000000000001\n"
     ]
    },
    {
     "name": "stderr",
     "output_type": "stream",
     "text": [
      "                                                                                \r"
     ]
    },
    {
     "name": "stdout",
     "output_type": "stream",
     "text": [
      "40294 2939 9713 57400\n",
      "Accuracy for threshold 0.5950000000000001 0.8853424682362749\n",
      "20 0.6000000000000001\n",
      "Max accuracy is  0.8911877186304895  for threshold  0.545\n",
      "getting stats for Random Forest: test\n"
     ]
    },
    {
     "name": "stderr",
     "output_type": "stream",
     "text": [
      "                                                                                \r"
     ]
    },
    {
     "name": "stdout",
     "output_type": "stream",
     "text": [
      "0 0.5\n",
      "1 0.505\n"
     ]
    },
    {
     "name": "stderr",
     "output_type": "stream",
     "text": [
      "                                                                                \r"
     ]
    },
    {
     "name": "stdout",
     "output_type": "stream",
     "text": [
      "7492 869 1294 9879\n",
      "Accuracy for threshold 0.505 0.8892699907852974\n",
      "2 0.51\n"
     ]
    },
    {
     "name": "stderr",
     "output_type": "stream",
     "text": [
      "                                                                                \r"
     ]
    },
    {
     "name": "stdout",
     "output_type": "stream",
     "text": [
      "7482 856 1304 9892\n",
      "Accuracy for threshold 0.51 0.889423569161462\n",
      "3 0.515\n"
     ]
    },
    {
     "name": "stderr",
     "output_type": "stream",
     "text": [
      "                                                                                \r"
     ]
    },
    {
     "name": "stdout",
     "output_type": "stream",
     "text": [
      "7464 820 1322 9928\n",
      "Accuracy for threshold 0.515 0.8903450394184499\n",
      "4 0.52\n",
      "7437 796 1349 9952\n",
      "Accuracy for threshold 0.52 0.8901914610422852\n",
      "5 0.525\n",
      "7420 779 1366 9969\n",
      "Accuracy for threshold 0.525 0.8901914610422852\n",
      "6 0.53\n",
      "7399 756 1387 9992\n",
      "Accuracy for threshold 0.53 0.890293846626395\n",
      "7 0.535\n",
      "7362 715 1424 10033\n",
      "Accuracy for threshold 0.535 0.8904986177946145\n",
      "8 0.54\n",
      "7344 699 1442 10049\n",
      "Accuracy for threshold 0.54 0.8903962322105048\n",
      "9 0.545\n",
      "7322 678 1464 10070\n",
      "Accuracy for threshold 0.545 0.8903450394184499\n",
      "10 0.55\n",
      "7302 666 1484 10082\n",
      "Accuracy for threshold 0.55 0.8899354970820108\n",
      "11 0.555\n",
      "7278 656 1508 10092\n",
      "Accuracy for threshold 0.555 0.8892187979932425\n",
      "12 0.56\n",
      "7252 643 1534 10105\n",
      "Accuracy for threshold 0.56 0.8885532916965291\n",
      "13 0.5650000000000001\n"
     ]
    },
    {
     "name": "stderr",
     "output_type": "stream",
     "text": [
      "                                                                                \r"
     ]
    },
    {
     "name": "stdout",
     "output_type": "stream",
     "text": [
      "7238 627 1548 10121\n",
      "Accuracy for threshold 0.5650000000000001 0.8886556772806389\n",
      "14 0.5700000000000001\n",
      "7213 616 1573 10132\n",
      "Accuracy for threshold 0.5700000000000001 0.8879389781918706\n",
      "15 0.5750000000000001\n",
      "7201 603 1585 10145\n",
      "Accuracy for threshold 0.5750000000000001 0.8879901709839254\n",
      "16 0.5800000000000001\n",
      "7179 593 1607 10155\n",
      "Accuracy for threshold 0.5800000000000001 0.887375857479267\n",
      "17 0.5850000000000001\n",
      "7137 583 1649 10165\n",
      "Accuracy for threshold 0.5850000000000001 0.8857376881335108\n",
      "18 0.5900000000000001\n",
      "7113 575 1673 10173\n",
      "Accuracy for threshold 0.5900000000000001 0.8849186034606328\n",
      "19 0.5950000000000001\n",
      "7088 550 1698 10198\n",
      "Accuracy for threshold 0.5950000000000001 0.8849186034606328\n",
      "20 0.6000000000000001\n",
      "Max accuracy is  0.8904986177946145  for threshold  0.535\n",
      "getting stats for Logistic Regression: train\n"
     ]
    },
    {
     "name": "stderr",
     "output_type": "stream",
     "text": [
      "                                                                                \r"
     ]
    },
    {
     "name": "stdout",
     "output_type": "stream",
     "text": [
      "0 0.5\n",
      "1 0.505\n"
     ]
    },
    {
     "name": "stderr",
     "output_type": "stream",
     "text": [
      "                                                                                \r"
     ]
    },
    {
     "name": "stdout",
     "output_type": "stream",
     "text": [
      "40350 9309 9657 51030\n",
      "Accuracy for threshold 0.505 0.828122451198956\n",
      "2 0.51\n"
     ]
    },
    {
     "name": "stderr",
     "output_type": "stream",
     "text": [
      "                                                                                \r"
     ]
    },
    {
     "name": "stdout",
     "output_type": "stream",
     "text": [
      "40155 9183 9852 51156\n",
      "Accuracy for threshold 0.51 0.8274971453428307\n",
      "3 0.515\n"
     ]
    },
    {
     "name": "stderr",
     "output_type": "stream",
     "text": [
      "                                                                                \r"
     ]
    },
    {
     "name": "stdout",
     "output_type": "stream",
     "text": [
      "39980 9039 10027 51300\n",
      "Accuracy for threshold 0.515 0.82721621082776\n",
      "4 0.52\n"
     ]
    },
    {
     "name": "stderr",
     "output_type": "stream",
     "text": [
      "                                                                                \r"
     ]
    },
    {
     "name": "stdout",
     "output_type": "stream",
     "text": [
      "39806 8918 10201 51421\n",
      "Accuracy for threshold 0.52 0.8267359034310261\n",
      "5 0.525\n"
     ]
    },
    {
     "name": "stderr",
     "output_type": "stream",
     "text": [
      "                                                                                \r"
     ]
    },
    {
     "name": "stdout",
     "output_type": "stream",
     "text": [
      "39604 8799 10403 51540\n",
      "Accuracy for threshold 0.525 0.8259837239229333\n",
      "6 0.53\n"
     ]
    },
    {
     "name": "stderr",
     "output_type": "stream",
     "text": [
      "                                                                                \r"
     ]
    },
    {
     "name": "stdout",
     "output_type": "stream",
     "text": [
      "39435 8673 10572 51666\n",
      "Accuracy for threshold 0.53 0.825594040563319\n",
      "7 0.535\n"
     ]
    },
    {
     "name": "stderr",
     "output_type": "stream",
     "text": [
      "                                                                                \r"
     ]
    },
    {
     "name": "stdout",
     "output_type": "stream",
     "text": [
      "39247 8552 10760 51787\n",
      "Accuracy for threshold 0.535 0.8249868595146177\n",
      "8 0.54\n"
     ]
    },
    {
     "name": "stderr",
     "output_type": "stream",
     "text": [
      "                                                                                \r"
     ]
    },
    {
     "name": "stdout",
     "output_type": "stream",
     "text": [
      "39053 8423 10954 51916\n",
      "Accuracy for threshold 0.54 0.8243978032733402\n",
      "9 0.545\n"
     ]
    },
    {
     "name": "stderr",
     "output_type": "stream",
     "text": [
      "                                                                                \r"
     ]
    },
    {
     "name": "stdout",
     "output_type": "stream",
     "text": [
      "38879 8317 11128 52022\n",
      "Accuracy for threshold 0.545 0.8237815598209269\n",
      "10 0.55\n"
     ]
    },
    {
     "name": "stderr",
     "output_type": "stream",
     "text": [
      "                                                                                \r"
     ]
    },
    {
     "name": "stdout",
     "output_type": "stream",
     "text": [
      "38694 8205 11313 52134\n",
      "Accuracy for threshold 0.55 0.8231200043499538\n",
      "11 0.555\n"
     ]
    },
    {
     "name": "stderr",
     "output_type": "stream",
     "text": [
      "                                                                                \r"
     ]
    },
    {
     "name": "stdout",
     "output_type": "stream",
     "text": [
      "38499 8099 11508 52240\n",
      "Accuracy for threshold 0.555 0.8223134504195893\n",
      "12 0.56\n"
     ]
    },
    {
     "name": "stderr",
     "output_type": "stream",
     "text": [
      "                                                                                \r"
     ]
    },
    {
     "name": "stdout",
     "output_type": "stream",
     "text": [
      "38291 7986 11716 52353\n",
      "Accuracy for threshold 0.56 0.8214525220669531\n",
      "13 0.5650000000000001\n"
     ]
    },
    {
     "name": "stderr",
     "output_type": "stream",
     "text": [
      "                                                                                \r"
     ]
    },
    {
     "name": "stdout",
     "output_type": "stream",
     "text": [
      "38096 7871 11911 52468\n",
      "Accuracy for threshold 0.5650000000000001 0.8207275297699962\n",
      "14 0.5700000000000001\n"
     ]
    },
    {
     "name": "stderr",
     "output_type": "stream",
     "text": [
      "                                                                                \r"
     ]
    },
    {
     "name": "stdout",
     "output_type": "stream",
     "text": [
      "37882 7764 12125 52575\n",
      "Accuracy for threshold 0.5700000000000001 0.8197578525728164\n",
      "15 0.5750000000000001\n"
     ]
    },
    {
     "name": "stderr",
     "output_type": "stream",
     "text": [
      "                                                                                \r"
     ]
    },
    {
     "name": "stdout",
     "output_type": "stream",
     "text": [
      "37669 7658 12338 52681\n",
      "Accuracy for threshold 0.5750000000000001 0.8187881753756366\n",
      "16 0.5800000000000001\n"
     ]
    },
    {
     "name": "stderr",
     "output_type": "stream",
     "text": [
      "                                                                                \r"
     ]
    },
    {
     "name": "stdout",
     "output_type": "stream",
     "text": [
      "37459 7548 12548 52791\n",
      "Accuracy for threshold 0.5800000000000001 0.8178819350044406\n",
      "17 0.5850000000000001\n"
     ]
    },
    {
     "name": "stderr",
     "output_type": "stream",
     "text": [
      "                                                                                \r"
     ]
    },
    {
     "name": "stdout",
     "output_type": "stream",
     "text": [
      "37270 7447 12737 52892\n",
      "Accuracy for threshold 0.5850000000000001 0.8170844434777881\n",
      "18 0.5900000000000001\n"
     ]
    },
    {
     "name": "stderr",
     "output_type": "stream",
     "text": [
      "                                                                                \r"
     ]
    },
    {
     "name": "stdout",
     "output_type": "stream",
     "text": [
      "37052 7329 12955 53010\n",
      "Accuracy for threshold 0.5900000000000001 0.816178203106592\n",
      "19 0.5950000000000001\n"
     ]
    },
    {
     "name": "stderr",
     "output_type": "stream",
     "text": [
      "                                                                                \r"
     ]
    },
    {
     "name": "stdout",
     "output_type": "stream",
     "text": [
      "36819 7245 13188 53094\n",
      "Accuracy for threshold 0.5950000000000001 0.8148279049535099\n",
      "20 0.6000000000000001\n",
      "Max accuracy is  0.828122451198956  for threshold  0.505\n",
      "getting stats for Random Forest: test\n"
     ]
    },
    {
     "name": "stderr",
     "output_type": "stream",
     "text": [
      "                                                                                \r"
     ]
    },
    {
     "name": "stdout",
     "output_type": "stream",
     "text": [
      "0 0.5\n",
      "1 0.505\n"
     ]
    },
    {
     "name": "stderr",
     "output_type": "stream",
     "text": [
      "                                                                                \r"
     ]
    },
    {
     "name": "stdout",
     "output_type": "stream",
     "text": [
      "7117 1672 1669 9076\n",
      "Accuracy for threshold 0.505 0.8289648817446503\n",
      "2 0.51\n",
      "7079 1643 1707 9105\n",
      "Accuracy for threshold 0.51 0.8285041466161565\n",
      "3 0.515\n"
     ]
    },
    {
     "name": "stderr",
     "output_type": "stream",
     "text": [
      "                                                                                \r"
     ]
    },
    {
     "name": "stdout",
     "output_type": "stream",
     "text": [
      "7045 1621 1741 9127\n",
      "Accuracy for threshold 0.515 0.8278898331114979\n",
      "4 0.52\n",
      "7019 1596 1767 9152\n",
      "Accuracy for threshold 0.52 0.827838640319443\n",
      "5 0.525\n"
     ]
    },
    {
     "name": "stderr",
     "output_type": "stream",
     "text": [
      "                                                                                \r"
     ]
    },
    {
     "name": "stdout",
     "output_type": "stream",
     "text": [
      "6982 1574 1804 9174\n",
      "Accuracy for threshold 0.525 0.8270707484386198\n",
      "6 0.53\n",
      "6958 1552 1828 9196\n",
      "Accuracy for threshold 0.53 0.82696836285451\n",
      "7 0.535\n"
     ]
    },
    {
     "name": "stderr",
     "output_type": "stream",
     "text": [
      "                                                                                \r"
     ]
    },
    {
     "name": "stdout",
     "output_type": "stream",
     "text": [
      "6926 1527 1860 9221\n",
      "Accuracy for threshold 0.535 0.826610013310126\n",
      "8 0.54\n"
     ]
    },
    {
     "name": "stderr",
     "output_type": "stream",
     "text": [
      "                                                                                \r"
     ]
    },
    {
     "name": "stdout",
     "output_type": "stream",
     "text": [
      "6895 1505 1891 9243\n",
      "Accuracy for threshold 0.54 0.826149278181632\n",
      "9 0.545\n"
     ]
    },
    {
     "name": "stderr",
     "output_type": "stream",
     "text": [
      "                                                                                \r"
     ]
    },
    {
     "name": "stdout",
     "output_type": "stream",
     "text": [
      "6855 1481 1931 9267\n",
      "Accuracy for threshold 0.545 0.8253301935087539\n",
      "10 0.55\n"
     ]
    },
    {
     "name": "stderr",
     "output_type": "stream",
     "text": [
      "                                                                                \r"
     ]
    },
    {
     "name": "stdout",
     "output_type": "stream",
     "text": [
      "6827 1461 1959 9287\n",
      "Accuracy for threshold 0.55 0.824920651172315\n",
      "11 0.555\n"
     ]
    },
    {
     "name": "stderr",
     "output_type": "stream",
     "text": [
      "                                                                                \r"
     ]
    },
    {
     "name": "stdout",
     "output_type": "stream",
     "text": [
      "6796 1442 1990 9306\n",
      "Accuracy for threshold 0.555 0.8243063376676564\n",
      "12 0.56\n"
     ]
    },
    {
     "name": "stderr",
     "output_type": "stream",
     "text": [
      "                                                                                \r"
     ]
    },
    {
     "name": "stdout",
     "output_type": "stream",
     "text": [
      "6764 1422 2022 9326\n",
      "Accuracy for threshold 0.56 0.8236920241629978\n",
      "13 0.5650000000000001\n",
      "6740 1391 2046 9357\n",
      "Accuracy for threshold 0.5650000000000001 0.824050373707382\n",
      "14 0.5700000000000001\n"
     ]
    },
    {
     "name": "stderr",
     "output_type": "stream",
     "text": [
      "                                                                                \r"
     ]
    },
    {
     "name": "stdout",
     "output_type": "stream",
     "text": [
      "6702 1366 2084 9382\n",
      "Accuracy for threshold 0.5700000000000001 0.8233848674106686\n",
      "15 0.5750000000000001\n",
      "6674 1351 2112 9397\n",
      "Accuracy for threshold 0.5750000000000001 0.8227193611139552\n",
      "16 0.5800000000000001\n"
     ]
    },
    {
     "name": "stderr",
     "output_type": "stream",
     "text": [
      "                                                                                \r"
     ]
    },
    {
     "name": "stdout",
     "output_type": "stream",
     "text": [
      "6643 1331 2143 9417\n",
      "Accuracy for threshold 0.5800000000000001 0.8221562404013515\n",
      "17 0.5850000000000001\n"
     ]
    },
    {
     "name": "stderr",
     "output_type": "stream",
     "text": [
      "                                                                                \r"
     ]
    },
    {
     "name": "stdout",
     "output_type": "stream",
     "text": [
      "6598 1311 2188 9437\n",
      "Accuracy for threshold 0.5850000000000001 0.8208764205999796\n",
      "18 0.5900000000000001\n"
     ]
    },
    {
     "name": "stderr",
     "output_type": "stream",
     "text": [
      "                                                                                \r"
     ]
    },
    {
     "name": "stdout",
     "output_type": "stream",
     "text": [
      "6557 1298 2229 9450\n",
      "Accuracy for threshold 0.5900000000000001 0.8194430224224429\n",
      "19 0.5950000000000001\n"
     ]
    },
    {
     "name": "stderr",
     "output_type": "stream",
     "text": [
      "                                                                                \r"
     ]
    },
    {
     "name": "stdout",
     "output_type": "stream",
     "text": [
      "6507 1262 2279 9486\n",
      "Accuracy for threshold 0.5950000000000001 0.8187263233336746\n",
      "20 0.6000000000000001\n",
      "Max accuracy is  0.8289648817446503  for threshold  0.505\n",
      "getting stats for Gradient-boosted tree: train\n",
      "0 0.5\n",
      "1 0.505\n"
     ]
    },
    {
     "name": "stderr",
     "output_type": "stream",
     "text": [
      "                                                                                \r"
     ]
    },
    {
     "name": "stdout",
     "output_type": "stream",
     "text": [
      "45322 4547 4685 55792\n",
      "Accuracy for threshold 0.505 0.9163358889311801\n",
      "2 0.51\n"
     ]
    },
    {
     "name": "stderr",
     "output_type": "stream",
     "text": [
      "                                                                                \r"
     ]
    },
    {
     "name": "stdout",
     "output_type": "stream",
     "text": [
      "45249 4492 4758 55847\n",
      "Accuracy for threshold 0.51 0.9161727656643648\n",
      "3 0.515\n"
     ]
    },
    {
     "name": "stderr",
     "output_type": "stream",
     "text": [
      "                                                                                \r"
     ]
    },
    {
     "name": "stdout",
     "output_type": "stream",
     "text": [
      "45191 4372 4816 55967\n",
      "Accuracy for threshold 0.515 0.9167346346945063\n",
      "4 0.52\n"
     ]
    },
    {
     "name": "stderr",
     "output_type": "stream",
     "text": [
      "                                                                                \r"
     ]
    },
    {
     "name": "stdout",
     "output_type": "stream",
     "text": [
      "45142 4326 4865 56013\n",
      "Accuracy for threshold 0.52 0.9167074474833705\n",
      "5 0.525\n"
     ]
    },
    {
     "name": "stderr",
     "output_type": "stream",
     "text": [
      "                                                                                \r"
     ]
    },
    {
     "name": "stdout",
     "output_type": "stream",
     "text": [
      "45075 4236 4932 56103\n",
      "Accuracy for threshold 0.525 0.9169158827687456\n",
      "6 0.53\n"
     ]
    },
    {
     "name": "stderr",
     "output_type": "stream",
     "text": [
      "                                                                                \r"
     ]
    },
    {
     "name": "stdout",
     "output_type": "stream",
     "text": [
      "45001 4187 5006 56152\n",
      "Accuracy for threshold 0.53 0.9166893226759466\n",
      "7 0.535\n"
     ]
    },
    {
     "name": "stderr",
     "output_type": "stream",
     "text": [
      "                                                                                \r"
     ]
    },
    {
     "name": "stdout",
     "output_type": "stream",
     "text": [
      "44923 4114 5084 56225\n",
      "Accuracy for threshold 0.535 0.9166440106573868\n",
      "8 0.54\n"
     ]
    },
    {
     "name": "stderr",
     "output_type": "stream",
     "text": [
      "                                                                                \r"
     ]
    },
    {
     "name": "stdout",
     "output_type": "stream",
     "text": [
      "44832 4055 5175 56284\n",
      "Accuracy for threshold 0.54 0.916354013738604\n",
      "9 0.545\n"
     ]
    },
    {
     "name": "stderr",
     "output_type": "stream",
     "text": [
      "                                                                                \r"
     ]
    },
    {
     "name": "stdout",
     "output_type": "stream",
     "text": [
      "44771 3976 5236 56363\n",
      "Accuracy for threshold 0.545 0.9165171370054194\n",
      "10 0.55\n"
     ]
    },
    {
     "name": "stderr",
     "output_type": "stream",
     "text": [
      "                                                                                \r"
     ]
    },
    {
     "name": "stdout",
     "output_type": "stream",
     "text": [
      "44666 3899 5341 56440\n",
      "Accuracy for threshold 0.55 0.9162633897014845\n",
      "11 0.555\n"
     ]
    },
    {
     "name": "stderr",
     "output_type": "stream",
     "text": [
      "                                                                                \r"
     ]
    },
    {
     "name": "stdout",
     "output_type": "stream",
     "text": [
      "44578 3807 5429 56532\n",
      "Accuracy for threshold 0.555 0.9162996393163323\n",
      "12 0.56\n"
     ]
    },
    {
     "name": "stderr",
     "output_type": "stream",
     "text": [
      "                                                                                \r"
     ]
    },
    {
     "name": "stdout",
     "output_type": "stream",
     "text": [
      "44498 3757 5509 56582\n",
      "Accuracy for threshold 0.56 0.9160277672049735\n",
      "13 0.5650000000000001\n"
     ]
    },
    {
     "name": "stderr",
     "output_type": "stream",
     "text": [
      "                                                                                \r"
     ]
    },
    {
     "name": "stdout",
     "output_type": "stream",
     "text": [
      "44417 3696 5590 56643\n",
      "Accuracy for threshold 0.5650000000000001 0.9158465191307342\n",
      "14 0.5700000000000001\n"
     ]
    },
    {
     "name": "stderr",
     "output_type": "stream",
     "text": [
      "                                                                                \r"
     ]
    },
    {
     "name": "stdout",
     "output_type": "stream",
     "text": [
      "44294 3630 5713 56709\n",
      "Accuracy for threshold 0.5700000000000001 0.9153299621191525\n",
      "15 0.5750000000000001\n"
     ]
    },
    {
     "name": "stderr",
     "output_type": "stream",
     "text": [
      "                                                                                \r"
     ]
    },
    {
     "name": "stdout",
     "output_type": "stream",
     "text": [
      "44184 3565 5823 56774\n",
      "Accuracy for threshold 0.5750000000000001 0.9149221539521143\n",
      "16 0.5800000000000001\n"
     ]
    },
    {
     "name": "stderr",
     "output_type": "stream",
     "text": [
      "                                                                                \r"
     ]
    },
    {
     "name": "stdout",
     "output_type": "stream",
     "text": [
      "44125 3507 5882 56832\n",
      "Accuracy for threshold 0.5800000000000001 0.9149130915484023\n",
      "17 0.5850000000000001\n"
     ]
    },
    {
     "name": "stderr",
     "output_type": "stream",
     "text": [
      "                                                                                \r"
     ]
    },
    {
     "name": "stdout",
     "output_type": "stream",
     "text": [
      "44031 3449 5976 56890\n",
      "Accuracy for threshold 0.5850000000000001 0.9145868450147717\n",
      "18 0.5900000000000001\n"
     ]
    },
    {
     "name": "stderr",
     "output_type": "stream",
     "text": [
      "                                                                                \r"
     ]
    },
    {
     "name": "stdout",
     "output_type": "stream",
     "text": [
      "43948 3405 6059 56934\n",
      "Accuracy for threshold 0.5900000000000001 0.9142334112700052\n",
      "19 0.5950000000000001\n"
     ]
    },
    {
     "name": "stderr",
     "output_type": "stream",
     "text": [
      "                                                                                \r"
     ]
    },
    {
     "name": "stdout",
     "output_type": "stream",
     "text": [
      "43731 3224 6276 57115\n",
      "Accuracy for threshold 0.5950000000000001 0.9139071647363747\n",
      "20 0.6000000000000001\n",
      "Max accuracy is  0.9169158827687456  for threshold  0.525\n",
      "getting stats for Gradient-boosted tree: test\n"
     ]
    },
    {
     "name": "stderr",
     "output_type": "stream",
     "text": [
      "                                                                                \r"
     ]
    },
    {
     "name": "stdout",
     "output_type": "stream",
     "text": [
      "0 0.5\n",
      "1 0.505\n"
     ]
    },
    {
     "name": "stderr",
     "output_type": "stream",
     "text": [
      "                                                                                \r"
     ]
    },
    {
     "name": "stdout",
     "output_type": "stream",
     "text": [
      "7939 831 847 9917\n",
      "Accuracy for threshold 0.505 0.9140984949319136\n",
      "2 0.51\n"
     ]
    },
    {
     "name": "stderr",
     "output_type": "stream",
     "text": [
      "                                                                                \r"
     ]
    },
    {
     "name": "stdout",
     "output_type": "stream",
     "text": [
      "7924 816 862 9932\n",
      "Accuracy for threshold 0.51 0.9140984949319136\n",
      "3 0.515\n"
     ]
    },
    {
     "name": "stderr",
     "output_type": "stream",
     "text": [
      "                                                                                \r"
     ]
    },
    {
     "name": "stdout",
     "output_type": "stream",
     "text": [
      "7910 800 876 9948\n",
      "Accuracy for threshold 0.515 0.9142008805160233\n",
      "4 0.52\n"
     ]
    },
    {
     "name": "stderr",
     "output_type": "stream",
     "text": [
      "                                                                                \r"
     ]
    },
    {
     "name": "stdout",
     "output_type": "stream",
     "text": [
      "7904 788 882 9960\n",
      "Accuracy for threshold 0.52 0.9145080372683526\n",
      "5 0.525\n"
     ]
    },
    {
     "name": "stderr",
     "output_type": "stream",
     "text": [
      "                                                                                \r"
     ]
    },
    {
     "name": "stdout",
     "output_type": "stream",
     "text": [
      "7891 776 895 9972\n",
      "Accuracy for threshold 0.525 0.9144568444762977\n",
      "6 0.53\n"
     ]
    },
    {
     "name": "stderr",
     "output_type": "stream",
     "text": [
      "                                                                                \r"
     ]
    },
    {
     "name": "stdout",
     "output_type": "stream",
     "text": [
      "7886 767 900 9981\n",
      "Accuracy for threshold 0.53 0.9146616156445172\n",
      "7 0.535\n"
     ]
    },
    {
     "name": "stderr",
     "output_type": "stream",
     "text": [
      "                                                                                \r"
     ]
    },
    {
     "name": "stdout",
     "output_type": "stream",
     "text": [
      "7872 755 914 9993\n",
      "Accuracy for threshold 0.535 0.9145592300604075\n",
      "8 0.54\n"
     ]
    },
    {
     "name": "stderr",
     "output_type": "stream",
     "text": [
      "                                                                                \r"
     ]
    },
    {
     "name": "stdout",
     "output_type": "stream",
     "text": [
      "7858 738 928 10010\n",
      "Accuracy for threshold 0.54 0.9147128084365721\n",
      "9 0.545\n"
     ]
    },
    {
     "name": "stderr",
     "output_type": "stream",
     "text": [
      "                                                                                \r"
     ]
    },
    {
     "name": "stdout",
     "output_type": "stream",
     "text": [
      "7840 721 946 10027\n",
      "Accuracy for threshold 0.545 0.9146616156445172\n",
      "10 0.55\n"
     ]
    },
    {
     "name": "stderr",
     "output_type": "stream",
     "text": [
      "                                                                                \r"
     ]
    },
    {
     "name": "stdout",
     "output_type": "stream",
     "text": [
      "7825 712 961 10036\n",
      "Accuracy for threshold 0.55 0.914354458892188\n",
      "11 0.555\n"
     ]
    },
    {
     "name": "stderr",
     "output_type": "stream",
     "text": [
      "                                                                                \r"
     ]
    },
    {
     "name": "stdout",
     "output_type": "stream",
     "text": [
      "7818 699 968 10049\n",
      "Accuracy for threshold 0.555 0.9146616156445172\n",
      "12 0.56\n"
     ]
    },
    {
     "name": "stderr",
     "output_type": "stream",
     "text": [
      "                                                                                \r"
     ]
    },
    {
     "name": "stdout",
     "output_type": "stream",
     "text": [
      "7806 690 980 10058\n",
      "Accuracy for threshold 0.56 0.9145080372683526\n",
      "13 0.5650000000000001\n"
     ]
    },
    {
     "name": "stderr",
     "output_type": "stream",
     "text": [
      "                                                                                \r"
     ]
    },
    {
     "name": "stdout",
     "output_type": "stream",
     "text": [
      "7793 667 993 10081\n",
      "Accuracy for threshold 0.5650000000000001 0.9150199651889014\n",
      "14 0.5700000000000001\n"
     ]
    },
    {
     "name": "stderr",
     "output_type": "stream",
     "text": [
      "                                                                                \r"
     ]
    },
    {
     "name": "stdout",
     "output_type": "stream",
     "text": [
      "7774 653 1012 10095\n",
      "Accuracy for threshold 0.5700000000000001 0.914764001228627\n",
      "15 0.5750000000000001\n"
     ]
    },
    {
     "name": "stderr",
     "output_type": "stream",
     "text": [
      "                                                                                \r"
     ]
    },
    {
     "name": "stdout",
     "output_type": "stream",
     "text": [
      "7760 643 1026 10105\n",
      "Accuracy for threshold 0.5750000000000001 0.9145592300604075\n",
      "16 0.5800000000000001\n"
     ]
    },
    {
     "name": "stderr",
     "output_type": "stream",
     "text": [
      "                                                                                \r"
     ]
    },
    {
     "name": "stdout",
     "output_type": "stream",
     "text": [
      "7746 630 1040 10118\n",
      "Accuracy for threshold 0.5800000000000001 0.9145080372683526\n",
      "17 0.5850000000000001\n"
     ]
    },
    {
     "name": "stderr",
     "output_type": "stream",
     "text": [
      "                                                                                \r"
     ]
    },
    {
     "name": "stdout",
     "output_type": "stream",
     "text": [
      "7731 625 1055 10123\n",
      "Accuracy for threshold 0.5850000000000001 0.9139961093478038\n",
      "18 0.5900000000000001\n"
     ]
    },
    {
     "name": "stderr",
     "output_type": "stream",
     "text": [
      "                                                                                \r"
     ]
    },
    {
     "name": "stdout",
     "output_type": "stream",
     "text": [
      "7707 613 1079 10135\n",
      "Accuracy for threshold 0.5900000000000001 0.9133817958431453\n",
      "19 0.5950000000000001\n"
     ]
    },
    {
     "name": "stderr",
     "output_type": "stream",
     "text": [
      "[Stage 1704:>                                                       (0 + 3) / 3]\r"
     ]
    },
    {
     "name": "stdout",
     "output_type": "stream",
     "text": [
      "7662 577 1124 10171\n",
      "Accuracy for threshold 0.5950000000000001 0.9129210607146514\n",
      "20 0.6000000000000001\n",
      "Max accuracy is  0.9150199651889014  for threshold  0.5650000000000001\n"
     ]
    },
    {
     "name": "stderr",
     "output_type": "stream",
     "text": [
      "                                                                                \r"
     ]
    }
   ],
   "source": [
    "print(\"getting stats for \" + m1Name + \": train\")\n",
    "(maxAcc1, acc1, thresh1, tp1, fp1, fn1, tn1) = getModelThresholdStats(model1, train_data)\n",
    "print(\"getting stats for \" + m1Name + \": test\")\n",
    "(maxAcc1Test, acc1Test, thresh1Test, tp1Test, fp1Test, fn1Test, tn1Test) = getModelThresholdStats(model1, test_data)\n",
    "print(\"getting stats for \" + m2Name + \": train\")\n",
    "(maxAcc2, acc2, thresh2, tp2, fp2, fn2, tn2) = getModelThresholdStats(model2, train_data)\n",
    "print(\"getting stats for \" + m1Name + \": test\")\n",
    "(maxAcc2Test, acc2Test, thresh2Test, tp2Test, fp2Test, fn2Test, tn2Test) = getModelThresholdStats(model2, test_data)\n",
    "print(\"getting stats for \" + m3Name + \": train\")\n",
    "(maxAcc3, acc3, thresh3, tp3, fp3, fn3, tn3) = getModelThresholdStats(model3, train_data)\n",
    "print(\"getting stats for \" + m3Name + \": test\")\n",
    "(maxAcc3Test, acc3Test, thresh3Test, tp3Test, fp3Test, fn3Test, tn3Test) = getModelThresholdStats(model3, test_data)\n"
   ]
  },
  {
   "cell_type": "code",
   "execution_count": 42,
   "id": "a2e4d4b6-089a-4174-aad5-088bd1f2d92e",
   "metadata": {},
   "outputs": [
    {
     "data": {
      "image/png": "[encoded data removed]",
      "text/plain": [
       "<Figure size 500x500 with 1 Axes>"
      ]
     },
     "metadata": {},
     "output_type": "display_data"
    },
    {
     "data": {
      "image/png": "[encoded data removed]",
      "text/plain": [
       "<Figure size 500x500 with 1 Axes>"
      ]
     },
     "metadata": {},
     "output_type": "display_data"
    },
    {
     "data": {
      "image/png": "[encoded data removed]",
      "text/plain": [
       "<Figure size 500x500 with 1 Axes>"
      ]
     },
     "metadata": {},
     "output_type": "display_data"
    }
   ],
   "source": [
    "# Random Forests\n",
    "conf_matrix = [[tp1Test, fp1Test],\n",
    "                [fn1Test, tn1Test]]\n",
    "classes = (0,1)\n",
    "fig, ax = plt.subplots(figsize=(5,5))\n",
    "cmap = 'magma'\n",
    "# Using the colormap to get the color intensities of the cells\n",
    "colors = plt.cm.magma(np.array(conf_matrix)/np.max(conf_matrix))\n",
    "\n",
    "ax.imshow(conf_matrix, cmap=cmap)\n",
    "ax.grid(False)\n",
    "ax.xaxis.set(ticks=(0,1), ticklabels=classes)\n",
    "ax.yaxis.set(ticks=(0,1), ticklabels=classes)\n",
    "ax.set_ylim(1.5, -0.5)\n",
    "\n",
    "# Labels for each cell\n",
    "cell_labels = [[\"True Positive\", \"False Positive\"], [\"False Negative\", \"True Negative\"]]\n",
    "\n",
    "for i in range(2):\n",
    "    for j in range(2):\n",
    "        # Determine the color intensity of the background\n",
    "        color_intensity = colors[i, j, :3].mean()\n",
    "        # Set text color based on background color intensity\n",
    "        text_color = 'white' if color_intensity < 0.5 else 'black'\n",
    "        \n",
    "        # Adding the label with the count value\n",
    "        text = f\"{cell_labels[i][j]}\\n{conf_matrix[i][j]}\"\n",
    "        ax.text(j, i, text, ha='center', va='center', color=text_color, fontsize=10)\n",
    "\n",
    "plt.title('Confusion Matrix Random Forest Accuracy: ' + str(round(maxAcc1Test,3)))\n",
    "plt.show()\n",
    "\n",
    "# Linear Regression\n",
    "conf_matrix = [[tp2Test, fp2Test],\n",
    "                [fn2Test, tn2Test]]\n",
    "\n",
    "fig, ax = plt.subplots(figsize=(5,5))\n",
    "cmap = 'magma'\n",
    "# Using the colormap to get the color intensities of the cells\n",
    "colors = plt.cm.magma(np.array(conf_matrix)/np.max(conf_matrix))\n",
    "\n",
    "ax.imshow(conf_matrix, cmap=cmap)\n",
    "ax.grid(False)\n",
    "ax.xaxis.set(ticks=(0,1), ticklabels=classes)\n",
    "ax.yaxis.set(ticks=(0,1), ticklabels=classes)\n",
    "ax.set_ylim(1.5, -0.5)\n",
    "\n",
    "for i in range(2):\n",
    "    for j in range(2):\n",
    "        # Determine the color intensity of the background\n",
    "        color_intensity = colors[i, j, :3].mean()\n",
    "        # Set text color based on background color intensity\n",
    "        text_color = 'white' if color_intensity < 0.5 else 'black'\n",
    "        \n",
    "        # Adding the label with the count value\n",
    "        text = f\"{cell_labels[i][j]}\\n{conf_matrix[i][j]}\"\n",
    "        ax.text(j, i, text, ha='center', va='center', color=text_color, fontsize=10)\n",
    "\n",
    "plt.title('Confusion Matrix Linear Regression Accuracy: ' + str(round(maxAcc2Test,3)))\n",
    "plt.show()\n",
    "\n",
    "# Gradient-Boost\n",
    "conf_matrix = [[tp3Test, fp3Test],\n",
    "                [fn3Test, tn3Test]]\n",
    "\n",
    "# Plot confusion matrix\n",
    "fig, ax = plt.subplots(figsize=(5,5))\n",
    "cmap = 'magma'\n",
    "# Using the colormap to get the color intensities of the cells\n",
    "colors = plt.cm.magma(np.array(conf_matrix)/np.max(conf_matrix))\n",
    "\n",
    "ax.imshow(conf_matrix, cmap=cmap)\n",
    "ax.grid(False)\n",
    "ax.xaxis.set(ticks=(0, 1), ticklabels=classes)\n",
    "ax.yaxis.set(ticks=(0, 1), ticklabels=classes)\n",
    "ax.set_ylim(1.5, -0.5)\n",
    "\n",
    "for i in range(2):\n",
    "    for j in range(2):\n",
    "        # Determine the color intensity of the background\n",
    "        color_intensity = colors[i, j, :3].mean()\n",
    "        # Set text color based on background color intensity\n",
    "        text_color = 'white' if color_intensity < 0.5 else 'black'\n",
    "        \n",
    "        # Adding the label with the count value\n",
    "        text = f\"{cell_labels[i][j]}\\n{conf_matrix[i][j]}\"\n",
    "        ax.text(j, i, text, ha='center', va='center', color=text_color, fontsize=10)\n",
    "\n",
    "plt.title('Confusion Matrix Gradient-Boost Accuracy: ' + str(round(maxAcc3Test, 3)))\n",
    "plt.show()"
   ]
  },
  {
   "cell_type": "code",
   "execution_count": 52,
   "id": "4d04fcae-40ec-4623-a1ae-7e954788931c",
   "metadata": {},
   "outputs": [
    {
     "data": {
      "image/png": "[encoded data removed]",
      "text/plain": [
       "<Figure size 4200x3600 with 1 Axes>"
      ]
     },
     "metadata": {},
     "output_type": "display_data"
    }
   ],
   "source": [
    "# Skip the first and last entry in each array\n",
    "thresholds_sliced = thresholds[1:-1]\n",
    "\n",
    "acc1Test_sliced = acc1Test[1:-1]\n",
    "acc2Test_sliced = acc2Test[1:-1]\n",
    "acc3Test_sliced = acc3Test[1:-1]\n",
    "\n",
    "dpi = 300 \n",
    "plt.rcParams['figure.dpi'] = dpi\n",
    "plt.rcParams[\"figure.figsize\"] = (14, 12)\n",
    "\n",
    "plt.subplot(212)\n",
    "plt.plot(thresholds_sliced, acc1Test_sliced, '-o', label = \"Random forest\")\n",
    "plt.plot(thresholds_sliced, acc2Test_sliced, '-o', label = \"Linear regression\")\n",
    "plt.plot(thresholds_sliced, acc3Test_sliced, '-o', label = \"Gradient boost\")\n",
    "plt.title(\"Test Accuracy\")\n",
    "plt.ylabel(\"Accuracy\")\n",
    "plt.xlabel(\"Threshold\")\n",
    "plt.xticks(np.arange(0.50, 0.60, 0.005))\n",
    "plt.ylim(0.80, 0.92)\n",
    "plt.yticks(np.arange(0.80, 0.92, 0.005))\n",
    "plt.legend()\n",
    "\n",
    "plt.show()\n",
    "\n"
   ]
  }
 ],
 "metadata": {
  "kernelspec": {
   "display_name": "Python 3 (ipykernel)",
   "language": "python",
   "name": "python3"
  },
  "language_info": {
   "codemirror_mode": {
    "name": "ipython",
    "version": 3
   },
   "file_extension": ".py",
   "mimetype": "text/x-python",
   "name": "python",
   "nbconvert_exporter": "python",
   "pygments_lexer": "ipython3",
   "version": "3.11.5"
  }
 },
 "nbformat": 4,
 "nbformat_minor": 5
}
